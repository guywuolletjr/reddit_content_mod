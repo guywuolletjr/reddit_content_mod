{
 "cells": [
  {
   "cell_type": "code",
   "execution_count": 7,
   "metadata": {},
   "outputs": [],
   "source": [
    "import sys, os \n",
    "import pandas as pd \n",
    "import numpy as np\n",
    "import utils\n",
    "\n",
    "from sklearn.linear_model import LogisticRegression\n",
    "from sklearn.linear_model import LogisticRegressionCV\n",
    "from sklearn.feature_extraction.text import TfidfVectorizer\n",
    "from sklearn.metrics import precision_recall_fscore_support, classification_report, accuracy_score\n",
    "from sklearn.feature_extraction.text import CountVectorizer"
   ]
  },
  {
   "cell_type": "code",
   "execution_count": null,
   "metadata": {},
   "outputs": [],
   "source": [
    "def load_data():\n",
    "\n",
    "    data = os.path.join(\"data\", \"train.csv\")\n",
    "\n",
    "    df = pd.read_csv(data)\n",
    "    X_train = df[['id', 'comment_text']]\n",
    "    y_train = df[['toxic', 'severe_toxic', 'obscene', 'threat', 'insult', 'identity_hate']]\n",
    "\n",
    "    X_test = pd.read_csv(os.path.join(\"data\", \"test.csv\"))\n",
    "    y_test = pd.read_csv(os.path.join(\"data\", \"test_labels.csv\"))\n",
    "    test = X_test.merge(y_test, on='id')\n",
    "    test = test[ (test['toxic']!=-1) | (test['severe_toxic']!=-1) | \n",
    "                (test['obscene']!=-1) | (test['threat']!=-1) | (test['insult']!=-1) \n",
    "                | (test['identity_hate']!=-1) ]\n",
    "    test = test.reset_index(drop=True) \n",
    "    \n",
    "    X_test = test[['id', 'comment_text']]\n",
    "    y_test = test[['toxic', 'severe_toxic', 'obscene', 'threat', 'insult', 'identity_hate']]\n",
    "\n",
    "    return X_train, y_train, X_test, y_test "
   ]
  },
  {
   "cell_type": "code",
   "execution_count": 8,
   "metadata": {},
   "outputs": [],
   "source": [
    "# Constants \n",
    "\n",
    "ngrams = 1\n",
    "penalty = 'l2'\n",
    "Cs = 10\n",
    "cv = 5\n",
    "max_iter = 1000 \n",
    "scoring = 'accuracy'"
   ]
  },
  {
   "cell_type": "code",
   "execution_count": null,
   "metadata": {},
   "outputs": [],
   "source": [
    "X_train, y_train, X_test, y_test = utils.load_data()\n",
    "np.random.seed(42)"
   ]
  },
  {
   "cell_type": "code",
   "execution_count": null,
   "metadata": {},
   "outputs": [],
   "source": [
    "y_train"
   ]
  },
  {
   "cell_type": "code",
   "execution_count": 9,
   "metadata": {},
   "outputs": [],
   "source": [
    "vectorizer = TfidfVectorizer(ngram_range=(1, ngrams))"
   ]
  },
  {
   "cell_type": "code",
   "execution_count": 10,
   "metadata": {},
   "outputs": [],
   "source": [
    "def tfidf_transform(corpus, is_train=False):\n",
    "    if is_train: \n",
    "        X = vectorizer.fit_transform(corpus)\n",
    "    else:\n",
    "        X = vectorizer.transform(corpus)\n",
    "    return X"
   ]
  },
  {
   "cell_type": "code",
   "execution_count": 11,
   "metadata": {},
   "outputs": [],
   "source": [
    "def print_results(model, X, y):\n",
    "    \"\"\"\n",
    "    Evaluate the model, prints results, and return as tuple\n",
    "    \"\"\"\n",
    "    prediction = model.predict(X)\n",
    "    precision, recall, fbeta_score, support = \\\n",
    "        precision_recall_fscore_support(y, prediction)\n",
    "    accuracy = accuracy_score(y, prediction)\n",
    "\n",
    "    print (\"Precision: {}\\nRecall: {}\\nF-Score: {}\\nSupport: {}\\nAccuracy {}\\n\".format(\n",
    "            precision, recall, fbeta_score, support, accuracy))\n",
    "\n",
    "    print (classification_report(y, prediction))\n",
    "\n",
    "    return (precision, recall, fbeta_score, support, accuracy)"
   ]
  },
  {
   "cell_type": "code",
   "execution_count": null,
   "metadata": {},
   "outputs": [],
   "source": [
    "# turn the corpus into a list to pass into the vectorizer \n",
    "train_corpus = X_train['comment_text'].values.tolist()\n",
    "test_corpus = X_test['comment_text'].values.tolist()\n",
    "\n",
    "X_train_tfidf = tfidf_transform(train_corpus, is_train=True)\n",
    "X_test_tfidf = tfidf_transform(test_corpus, is_train=False)"
   ]
  },
  {
   "cell_type": "code",
   "execution_count": null,
   "metadata": {},
   "outputs": [],
   "source": [
    "def run_model(): \n",
    "    labels = ['toxic' , 'severe_toxic', 'obscene', 'threat', 'insult', 'identity_hate']\n",
    "    \n",
    "    for label in labels: \n",
    "        print(\"Train model on the \\\"{}\\\" label.\\n\".format(label))\n",
    "        y_train_label = y_train[label].values.tolist()\n",
    "        y_test_label = y_test[label].values.tolist()\n",
    "        \n",
    "        lr = LogisticRegressionCV(   class_weight=\"balanced\", \n",
    "                                     Cs = Cs, \n",
    "                                     cv = cv, \n",
    "                                     penalty = penalty, \n",
    "                                     scoring = scoring, \n",
    "                                     max_iter = max_iter)\n",
    "        \n",
    "        lr.fit(X_train_tfidf, y_train_label)\n",
    "        \n",
    "        print(\"Train Results\\n\")\n",
    "        print_results(lr, X_train_tfidf, y_train_label)\n",
    "        \n",
    "        print(\"Test Results\\n\")\n",
    "        \n",
    "        print_results(lr, X_test_tfidf, y_test_label)"
   ]
  },
  {
   "cell_type": "code",
   "execution_count": null,
   "metadata": {},
   "outputs": [],
   "source": [
    "run_model()\n",
    "\n"
   ]
  },
  {
   "cell_type": "code",
   "execution_count": 2,
   "metadata": {},
   "outputs": [],
   "source": [
    "X_train, y_train, X_test, y_test = utils.load_reddit_data()\n",
    "np.random.seed(42)"
   ]
  },
  {
   "cell_type": "code",
   "execution_count": 6,
   "metadata": {},
   "outputs": [
    {
     "name": "stderr",
     "output_type": "stream",
     "text": [
      "Using TensorFlow backend.\n"
     ]
    }
   ],
   "source": [
    "import numpy as np\n",
    "from keras.models import Sequential \n",
    "from keras.layers import Dense, Activation "
   ]
  },
  {
   "cell_type": "code",
   "execution_count": 12,
   "metadata": {},
   "outputs": [],
   "source": [
    "# turn the corpus into a list to pass into the vectorizer \n",
    "train_corpus = X_train['body'].values.tolist()\n",
    "test_corpus = X_test['body'].values.tolist()\n",
    "\n",
    "X_train_tfidf = tfidf_transform(train_corpus, is_train=True)\n",
    "X_test_tfidf = tfidf_transform(test_corpus, is_train=False)"
   ]
  },
  {
   "cell_type": "code",
   "execution_count": 16,
   "metadata": {},
   "outputs": [
    {
     "data": {
      "text/plain": [
       "(3606305, 944827)"
      ]
     },
     "execution_count": 16,
     "metadata": {},
     "output_type": "execute_result"
    }
   ],
   "source": [
    "X_train_tfidf"
   ]
  },
  {
   "cell_type": "code",
   "execution_count": 17,
   "metadata": {},
   "outputs": [
    {
     "data": {
      "text/plain": [
       "<400701x944827 sparse matrix of type '<class 'numpy.float64'>'\n",
       "\twith 9750289 stored elements in Compressed Sparse Row format>"
      ]
     },
     "execution_count": 17,
     "metadata": {},
     "output_type": "execute_result"
    }
   ],
   "source": [
    "X_test_tfidf"
   ]
  },
  {
   "cell_type": "markdown",
   "metadata": {},
   "source": [
    "model = Sequential()\n",
    "model.add( Dense(units=128, input_shape(1,1)) )\n",
    "model.add(Activation('tanh'))\n",
    "model.add( Dense(units=128, input_shape(1,1)) )\n",
    "model.add(Activation('tanh'))\n",
    "model.add( Dense(units=128, input_shape(1,1)) )\n",
    "model.add(Activation('tanh'))"
   ]
  }
 ],
 "metadata": {
  "kernelspec": {
   "display_name": "Python 3",
   "language": "python",
   "name": "python3"
  },
  "language_info": {
   "codemirror_mode": {
    "name": "ipython",
    "version": 3
   },
   "file_extension": ".py",
   "mimetype": "text/x-python",
   "name": "python",
   "nbconvert_exporter": "python",
   "pygments_lexer": "ipython3",
   "version": "3.7.3"
  }
 },
 "nbformat": 4,
 "nbformat_minor": 2
}
