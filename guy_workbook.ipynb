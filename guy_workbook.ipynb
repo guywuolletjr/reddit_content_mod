{
 "cells": [
  {
   "cell_type": "code",
   "execution_count": 9,
   "metadata": {},
   "outputs": [],
   "source": [
    "import sys, os \n",
    "import pandas as pd \n",
    "\n",
    "from sklearn.linear_model import LogisticRegression\n",
    "from sklearn.linear_model import LogisticRegressionCV\n",
    "from sklearn.feature_extraction.text import TfidfVectorizer\n",
    "from sklearn.metrics import precision_recall_fscore_support, classification_report, accuracy_score\n",
    "from sklearn.feature_extraction.text import CountVectorizer"
   ]
  },
  {
   "cell_type": "code",
   "execution_count": 47,
   "metadata": {},
   "outputs": [],
   "source": [
    "def load_data():\n",
    "\n",
    "    data = os.path.join(\"data\", \"train.csv\")\n",
    "\n",
    "    df = pd.read_csv(data)\n",
    "    X_train = df[['id', 'comment_text']]\n",
    "    y_train = df[['toxic', 'severe_toxic', 'obscene', 'threat', 'insult', 'identity_hate']]\n",
    "\n",
    "    X_test = pd.read_csv(os.path.join(\"data\", \"test.csv\"))\n",
    "    y_test = pd.read_csv(os.path.join(\"data\", \"test_labels.csv\"))\n",
    "    test = X_test.merge(y_test, on='id')\n",
    "    test = test[ (test['toxic']!=-1) | (test['severe_toxic']!=-1) | \n",
    "                (test['obscene']!=-1) | (test['threat']!=-1) | (test['insult']!=-1) \n",
    "                | (test['identity_hate']!=-1) ]\n",
    "    test = test.reset_index(drop=True) \n",
    "    \n",
    "    X_test = test[['id', 'comment_text']]\n",
    "    y_test = test[['toxic', 'severe_toxic', 'obscene', 'threat', 'insult', 'identity_hate']]\n",
    "\n",
    "    return X_train, y_train, X_test, y_test "
   ]
  },
  {
   "cell_type": "code",
   "execution_count": 48,
   "metadata": {},
   "outputs": [],
   "source": [
    "# Constants \n",
    "\n",
    "ngrams = 1\n",
    "penalty = 'l2'\n",
    "Cs = 10\n",
    "cv = 5\n",
    "max_iter = 1000 \n",
    "scoring = 'accuracy'"
   ]
  },
  {
   "cell_type": "code",
   "execution_count": 49,
   "metadata": {},
   "outputs": [],
   "source": [
    "X_train, y_train, X_test, y_test = load_data()"
   ]
  },
  {
   "cell_type": "code",
   "execution_count": 13,
   "metadata": {},
   "outputs": [],
   "source": [
    "vectorizer = TfidfVectorizer(ngram_range=(1, ngrams))"
   ]
  },
  {
   "cell_type": "code",
   "execution_count": 14,
   "metadata": {},
   "outputs": [],
   "source": [
    "def tfidf_transform(corpus, is_train=False):\n",
    "    if is_train: \n",
    "        X = vectorizer.fit_transform(corpus)\n",
    "    else:\n",
    "        X = vectorizer.transform(corpus)\n",
    "    return X"
   ]
  },
  {
   "cell_type": "code",
   "execution_count": 15,
   "metadata": {},
   "outputs": [],
   "source": [
    "def print_results(model, X, y):\n",
    "    \"\"\"Print out evaluate a model, returns the metrics as tuple\n",
    "    \"\"\"\n",
    "    prediction = model.predict(X)\n",
    "    precision, recall, fbeta_score, support = \\\n",
    "        precision_recall_fscore_support(y, prediction)\n",
    "    accuracy = accuracy_score(y, prediction)\n",
    "\n",
    "    print (\"Precision: {}\\nRecall: {}\\nF-Score: {}\\nSupport: {}\\nAccuracy {}\\n\".format(\n",
    "            precision, recall, fbeta_score, support, accuracy))\n",
    "\n",
    "    print (classification_report(y, prediction))\n",
    "\n",
    "    print(\"Example predictions: \")\n",
    "    print(prediction)\n",
    "\n",
    "    return (precision, recall, fbeta_score, support, accuracy)"
   ]
  },
  {
   "cell_type": "code",
   "execution_count": 16,
   "metadata": {},
   "outputs": [
    {
     "ename": "TypeError",
     "evalue": "string indices must be integers",
     "output_type": "error",
     "traceback": [
      "\u001b[0;31m---------------------------------------------------------------------------\u001b[0m",
      "\u001b[0;31mTypeError\u001b[0m                                 Traceback (most recent call last)",
      "\u001b[0;32m<ipython-input-16-d3d752dc3935>\u001b[0m in \u001b[0;36m<module>\u001b[0;34m\u001b[0m\n\u001b[1;32m      1\u001b[0m \u001b[0;31m# turn the corpus into a list to pass into the vectorizer\u001b[0m\u001b[0;34m\u001b[0m\u001b[0;34m\u001b[0m\u001b[0;34m\u001b[0m\u001b[0m\n\u001b[1;32m      2\u001b[0m \u001b[0mtrain_corpus\u001b[0m \u001b[0;34m=\u001b[0m \u001b[0mX_train\u001b[0m\u001b[0;34m[\u001b[0m\u001b[0;34m'comment_text'\u001b[0m\u001b[0;34m]\u001b[0m\u001b[0;34m.\u001b[0m\u001b[0mvalues\u001b[0m\u001b[0;34m.\u001b[0m\u001b[0mtolist\u001b[0m\u001b[0;34m(\u001b[0m\u001b[0;34m)\u001b[0m\u001b[0;34m\u001b[0m\u001b[0;34m\u001b[0m\u001b[0m\n\u001b[0;32m----> 3\u001b[0;31m \u001b[0mtest_corpus\u001b[0m \u001b[0;34m=\u001b[0m \u001b[0mX_test\u001b[0m\u001b[0;34m[\u001b[0m\u001b[0;34m'comment_text'\u001b[0m\u001b[0;34m]\u001b[0m\u001b[0;34m.\u001b[0m\u001b[0mvalues\u001b[0m\u001b[0;34m.\u001b[0m\u001b[0mtolist\u001b[0m\u001b[0;34m(\u001b[0m\u001b[0;34m)\u001b[0m\u001b[0;34m\u001b[0m\u001b[0;34m\u001b[0m\u001b[0m\n\u001b[0m\u001b[1;32m      4\u001b[0m \u001b[0;34m\u001b[0m\u001b[0m\n\u001b[1;32m      5\u001b[0m \u001b[0mX_train_tfidf\u001b[0m \u001b[0;34m=\u001b[0m \u001b[0mtfidf_transform\u001b[0m\u001b[0;34m(\u001b[0m\u001b[0mtrain_corpus\u001b[0m\u001b[0;34m,\u001b[0m \u001b[0mis_train\u001b[0m\u001b[0;34m=\u001b[0m\u001b[0;32mTrue\u001b[0m\u001b[0;34m)\u001b[0m\u001b[0;34m\u001b[0m\u001b[0;34m\u001b[0m\u001b[0m\n",
      "\u001b[0;31mTypeError\u001b[0m: string indices must be integers"
     ]
    }
   ],
   "source": [
    "# turn the corpus into a list to pass into the vectorizer \n",
    "train_corpus = X_train['comment_text'].values.tolist()\n",
    "test_corpus = X_test['comment_text'].values.tolist()\n",
    "\n",
    "X_train_tfidf = tfidf_transform(train_corpus, is_train=True)\n",
    "X_test_tfidf = tfidf_transform(test_corpus, is_train=False)"
   ]
  },
  {
   "cell_type": "code",
   "execution_count": null,
   "metadata": {},
   "outputs": [],
   "source": [
    "def run_model(): \n",
    "    labels = ['toxic' ] #, 'severe_toxic', 'obscene', 'threat', 'insult', 'identity_hate']\n",
    "    \n",
    "    for label in labels: \n",
    "        print(\"Train model on the \\\"{}\\\" label.\\n\".format(label))\n",
    "        y_train_label = y_train[label].values.tolist()\n",
    "        y_test_label = y_test[]\n",
    "        \n",
    "        lr = LogisticRegressionCV(   class_weight=\"balanced\", \n",
    "                                     Cs = Cs, \n",
    "                                     cv = cv, \n",
    "                                     penalty = penalty, \n",
    "                                     scoring = scoring, \n",
    "                                     max_iter = max_iter)\n",
    "        \n",
    "        lr.fit(X_train_tfidf, y_train_label)\n",
    "        \n",
    "        print(\"Train Results\\n\")\n",
    "        print_results(lr, X_train_tfidf, y_train_label)\n",
    "        \n",
    "        print(\"Test Results\\n\")\n",
    "        \n",
    "        print_results(lr, X_test_tfidf, y_test_label)"
   ]
  },
  {
   "cell_type": "code",
   "execution_count": null,
   "metadata": {},
   "outputs": [],
   "source": []
  },
  {
   "cell_type": "code",
   "execution_count": null,
   "metadata": {},
   "outputs": [],
   "source": []
  },
  {
   "cell_type": "code",
   "execution_count": null,
   "metadata": {},
   "outputs": [],
   "source": []
  },
  {
   "cell_type": "code",
   "execution_count": null,
   "metadata": {},
   "outputs": [],
   "source": []
  },
  {
   "cell_type": "code",
   "execution_count": null,
   "metadata": {},
   "outputs": [],
   "source": []
  },
  {
   "cell_type": "code",
   "execution_count": null,
   "metadata": {},
   "outputs": [],
   "source": []
  },
  {
   "cell_type": "code",
   "execution_count": null,
   "metadata": {},
   "outputs": [],
   "source": []
  }
 ],
 "metadata": {
  "kernelspec": {
   "display_name": "Python 3",
   "language": "python",
   "name": "python3"
  },
  "language_info": {
   "codemirror_mode": {
    "name": "ipython",
    "version": 3
   },
   "file_extension": ".py",
   "mimetype": "text/x-python",
   "name": "python",
   "nbconvert_exporter": "python",
   "pygments_lexer": "ipython3",
   "version": "3.7.3"
  }
 },
 "nbformat": 4,
 "nbformat_minor": 2
}
