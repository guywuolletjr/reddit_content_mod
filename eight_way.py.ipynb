{
 "cells": [
  {
   "cell_type": "code",
   "execution_count": null,
   "metadata": {},
   "outputs": [],
   "source": [
    "from preprocc import *\n",
    "\n",
    "print(\"loading data...\")\n",
    "X_train, y_train, X_test, y_test = load_data()\n",
    "print(\"preprocessing...\")\n",
    "X_train, X_test = preprocess(X_train, X_test)\n",
    "print(\"tokenization...\")\n",
    "train_data, test_data = tokenize(X_train, X_test)\n",
    "print(\"model!!!\")\n",
    "model = eight_way(train_data, test_data, y_train, y_test, batch_size=20)\n",
    "print(\"evaluating!!!\")\n",
    "score = eight_way_eval(model, test_data, y_test)"
   ]
  }
 ],
 "metadata": {
  "kernelspec": {
   "display_name": "Python 3",
   "language": "python",
   "name": "python3"
  },
  "language_info": {
   "codemirror_mode": {
    "name": "ipython",
    "version": 3
   },
   "file_extension": ".py",
   "mimetype": "text/x-python",
   "name": "python",
   "nbconvert_exporter": "python",
   "pygments_lexer": "ipython3",
   "version": "3.7.1"
  }
 },
 "nbformat": 4,
 "nbformat_minor": 2
}
